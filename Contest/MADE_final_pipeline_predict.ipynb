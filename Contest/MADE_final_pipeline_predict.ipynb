{
 "cells": [
  {
   "cell_type": "markdown",
   "metadata": {},
   "source": [
    "Кстати, может кому то все еще интересно посмотреть как решался вступительный контест.\n",
    "Выкладываю ноутбук для топ-1 решения. Соло модель без блендов/стэкингов и т.п.\n",
    "Насколько я понял, там была вся суть в природе данных - скорее всего это была выгрузка из какой то рекомендательной системы или типа того. то есть, самые важные фичи - таймдельты между записями - т.к. если система чето показывает пользователю, то скорее всего он еще не выбрал статью которую прочитать (собственно это лик)"
   ]
  },
  {
   "cell_type": "code",
   "execution_count": null,
   "metadata": {},
   "outputs": [],
   "source": [
    "import pandas as pd\n",
    "import numpy as np\n",
    "import tqdm\n",
    "from itertools import combinations\n",
    "import gc\n",
    "import lightgbm as lgb"
   ]
  },
  {
   "cell_type": "code",
   "execution_count": null,
   "metadata": {
    "scrolled": true
   },
   "outputs": [],
   "source": [
    "df = pd.read_csv('./materials/train.tar.gz', compression='gzip', header=0, sep=';', quotechar='\"')\n",
    "df = df[:-1]\n",
    "df_test = pd.read_csv('./materials/test-data.tar.gz', compression='gzip',\n",
    "                      header=0, sep=',', quotechar='\"', index_col=0)\n",
    "df.columns = ['time', 'label', 'C1', 'C2', 'C3', 'C4', 'C5', 'C6', 'C7', 'C8',\n",
    "       'C9', 'C10', 'CG1', 'CG2', 'CG3', 'l1', 'l2', 'C11', 'C12']\n",
    "df_test.columns = ['time', 'label', 'C1', 'C2', 'C3', 'C4', 'C5', 'C6', 'C7', 'C8',\n",
    "       'C9', 'C10', 'CG1', 'CG2', 'CG3', 'l1', 'l2', 'C11', 'C12']"
   ]
  },
  {
   "cell_type": "code",
   "execution_count": null,
   "metadata": {},
   "outputs": [],
   "source": [
    "full_dataset = pd.concat([df, df_test])\n",
    "full_dataset['time'] = pd.to_datetime(full_dataset['time'], unit='s')"
   ]
  },
  {
   "cell_type": "code",
   "execution_count": null,
   "metadata": {},
   "outputs": [],
   "source": [
    "del df, df_test"
   ]
  },
  {
   "cell_type": "code",
   "execution_count": null,
   "metadata": {},
   "outputs": [],
   "source": [
    "calc_cols = list(full_dataset.columns.difference(['time', 'label']))+ [('C1', 'C2'),('C1', 'C5'),('C1', 'C8'),\n",
    "                         ('C5', 'C2'), ('C8', 'C2'), ('C1', 'C2', 'C5'),\n",
    "                        ('C1', 'C2', 'C8')\n",
    "                        ]"
   ]
  },
  {
   "cell_type": "code",
   "execution_count": null,
   "metadata": {
    "scrolled": true
   },
   "outputs": [],
   "source": [
    "for col in tqdm.tqdm(calc_cols):\n",
    "    a = full_dataset.groupby(col)['time'].shift(1)\n",
    "    b = full_dataset.groupby(col)['time'].shift(-1)\n",
    "    c = full_dataset.groupby(col)['time'].transform('max')\n",
    "    d = full_dataset.groupby(col)['time'].transform('min')\n",
    "    \n",
    "    \n",
    "    full_dataset['from_prev_{}'.format(col)] = (full_dataset['time'] - a).dt.total_seconds()\n",
    "    full_dataset['to_next_{}'.format(col)] = (b - full_dataset['time']).dt.total_seconds()\n",
    "    \n",
    "    full_dataset['from_max_{}'.format(col)] = (full_dataset['time'] - d).dt.total_seconds()\n",
    "    full_dataset['to_min_{}'.format(col)] = (c - full_dataset['time']).dt.total_seconds()\n",
    "    "
   ]
  },
  {
   "cell_type": "code",
   "execution_count": null,
   "metadata": {},
   "outputs": [],
   "source": [
    "full_dataset['hour'] = full_dataset['time'].dt.hour"
   ]
  },
  {
   "cell_type": "code",
   "execution_count": null,
   "metadata": {},
   "outputs": [],
   "source": [
    "X_train = full_dataset[full_dataset['label'].isin([0, 1])]\n",
    "X_test = full_dataset[full_dataset['label']==-1]"
   ]
  },
  {
   "cell_type": "code",
   "execution_count": null,
   "metadata": {},
   "outputs": [],
   "source": [
    "good_cols = list(X_train.columns.difference(['time',\n",
    "                                                 'CG1',\n",
    "                                                 'CG2',\n",
    "                                                 'CG3',\n",
    "                                                 'label']))"
   ]
  },
  {
   "cell_type": "code",
   "execution_count": null,
   "metadata": {},
   "outputs": [],
   "source": [
    "target_feature = 'label'"
   ]
  },
  {
   "cell_type": "code",
   "execution_count": null,
   "metadata": {},
   "outputs": [],
   "source": [
    "D_train = lgb.Dataset(\n",
    "    X_train[good_cols],\n",
    "    X_train[target_feature]\n",
    "                      )"
   ]
  },
  {
   "cell_type": "code",
   "execution_count": null,
   "metadata": {},
   "outputs": [],
   "source": [
    "px = {\n",
    "        'boost_from_average':'false',\n",
    "        'learning_rate': 0.01,\n",
    "        'max_depth': -1,\n",
    "        'min_data_in_leaf': 256,\n",
    "        'num_threads': 12,\n",
    "        'tree_learner': 'serial',\n",
    "    'num_leaves':128,\n",
    "    'max_bin':254,\n",
    "        'verbosity': 1,\n",
    "    'objective':'binary',\n",
    "    'metric':'binary'\n",
    "    }\n",
    "lg_0 = lgb.train(px, D_train,\n",
    "                num_boost_round=5100)"
   ]
  },
  {
   "cell_type": "code",
   "execution_count": null,
   "metadata": {},
   "outputs": [],
   "source": [
    "y_pred = lg_0.predict(X_test[good_cols])"
   ]
  },
  {
   "cell_type": "code",
   "execution_count": null,
   "metadata": {},
   "outputs": [],
   "source": [
    "pd.Series(y_pred).to_csv('final_subm.csv', index=False, header=False)"
   ]
  }
 ],
 "metadata": {
  "kernelspec": {
   "display_name": "Python 3",
   "language": "python",
   "name": "python3"
  },
  "language_info": {
   "codemirror_mode": {
    "name": "ipython",
    "version": 3
   },
   "file_extension": ".py",
   "mimetype": "text/x-python",
   "name": "python",
   "nbconvert_exporter": "python",
   "pygments_lexer": "ipython3",
   "version": "3.7.4"
  }
 },
 "nbformat": 4,
 "nbformat_minor": 2
}
